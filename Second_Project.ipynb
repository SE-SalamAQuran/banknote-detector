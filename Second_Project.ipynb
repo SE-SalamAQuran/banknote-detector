{
  "nbformat": 4,
  "nbformat_minor": 0,
  "metadata": {
    "colab": {
      "name": "Second Project.ipynb",
      "private_outputs": true,
      "provenance": [],
      "authorship_tag": "ABX9TyNvWTY7KWnqPOAmDgUhWXxN",
      "include_colab_link": true
    },
    "kernelspec": {
      "name": "python3",
      "display_name": "Python 3"
    },
    "language_info": {
      "name": "python"
    },
    "accelerator": "GPU"
  },
  "cells": [
    {
      "cell_type": "markdown",
      "metadata": {
        "id": "view-in-github",
        "colab_type": "text"
      },
      "source": [
        "<a href=\"https://colab.research.google.com/github/SE-SalamAQuran/banknote-detector/blob/master/Second_Project.ipynb\" target=\"_parent\"><img src=\"https://colab.research.google.com/assets/colab-badge.svg\" alt=\"Open In Colab\"/></a>"
      ]
    },
    {
      "cell_type": "markdown",
      "metadata": {
        "id": "ziWoMfO9hcXx"
      },
      "source": [
        "**This is the Jupyter Notebook for the second project of the course: ENCS539 \"Sp.Topic (Computer & Machine Vision)\"**"
      ]
    },
    {
      "cell_type": "markdown",
      "metadata": {
        "id": "PIo4THYDhxVa"
      },
      "source": [
        "Students: -\n",
        "1. Salam Quran \"1161667\".\n",
        "2. Mohye Ahmad \"1162843\". "
      ]
    },
    {
      "cell_type": "code",
      "metadata": {
        "id": "RVCDwKoZhAre"
      },
      "source": [
        "# Importing & Unzipping the initial dataset.\n",
        "!curl -L \"https://app.roboflow.com/ds/HxdIOUUfk2?key=NGXRsfx0D8\" > roboflow.zip; unzip roboflow.zip; rm roboflow.zip\n"
      ],
      "execution_count": null,
      "outputs": []
    },
    {
      "cell_type": "code",
      "metadata": {
        "id": "8hs09cF8mO47"
      },
      "source": [
        "#Importing & Unzipping the second dataset\n",
        "#Note that each dataset contains only 390 images pre-processed via three steps and augemented via ten steps.\n",
        "#Each original dataset contained 164 pictures which vary in containing classes.\n",
        "#We annotated the datasets i.e., drew windows with our hands on the banknotes and gave them classes.\n",
        "!curl -L \"https://app.roboflow.com/ds/A6U9CAfcis?key=X9X24JNnU9\" > roboflow.zip; unzip roboflow.zip; rm roboflow.zip\n"
      ],
      "execution_count": null,
      "outputs": []
    },
    {
      "cell_type": "markdown",
      "metadata": {
        "id": "P4_Dxv7HoNZz"
      },
      "source": [
        "There are four main classes, a class per banknote.\n",
        "\n",
        "*   The class for 50 (old&new) Shekels was ***2***.\n",
        "*   The class for 20 (old&new) Shekels was ***5***.\n",
        "*   The class for 200 (old&new) Shekels was ***3***.\n",
        "*   The class for 100 (old&new) Shekels was ***4***.\n",
        "\n",
        "\n",
        "\n",
        "\n",
        "\n",
        "\n"
      ]
    },
    {
      "cell_type": "code",
      "metadata": {
        "id": "3uF_-fp6pAPN"
      },
      "source": [
        "#Downloading Yolov5\n",
        "\n",
        "!git clone https://github.com/ultralytics/yolov5.git #Cloning the repo\n",
        "%cd yolov5/\n",
        "%pip install -qr requirements.txt  #install dependencies"
      ],
      "execution_count": null,
      "outputs": []
    },
    {
      "cell_type": "markdown",
      "metadata": {
        "id": "QOF9i8x3qP6y"
      },
      "source": [
        "Import the necessary packages, keras, tensorflow, ...etc.\n"
      ]
    },
    {
      "cell_type": "code",
      "metadata": {
        "id": "Oy1Kg2W8sJb_"
      },
      "source": [
        "import keras, keras_preprocessing\n",
        "import tensorflow as tf\n",
        "import cv2\n",
        "import numpy as np\n",
        "import os\n",
        "import time \n",
        "\n",
        "\n"
      ],
      "execution_count": null,
      "outputs": []
    },
    {
      "cell_type": "markdown",
      "metadata": {
        "id": "unc1PFyBOO_R"
      },
      "source": [
        "Importing data from initial Dataset\n"
      ]
    },
    {
      "cell_type": "code",
      "metadata": {
        "id": "vuMdSmeGN6Av"
      },
      "source": [
        "import torch\n",
        "from IPython.display import Image, clear_output  # to display images\n",
        "\n",
        "clear_output()\n",
        "print(f\"Setup complete. Using torch {torch.__version__} ({torch.cuda.get_device_properties(0).name if torch.cuda.is_available() else 'CPU'})\")\n",
        "%cd /content/\n",
        "import yaml\n",
        "with open(\"data.yaml\", \"r\") as stream:\n",
        "  num_classes = str(yaml.safe_load(stream)['nc'])\n",
        "clear_output()\n",
        "print(f\"Setup complete. Using torch {torch.__version__} ({torch.cuda.get_device_properties(0).name if torch.cuda.is_available() else 'CPU'})\")\n",
        "%cd /content/\n",
        "import yaml\n",
        "with open(\"datav2.yaml\", \"r\") as stream:\n",
        "  num_classes = str(yaml.safe_load(stream)['nc'])"
      ],
      "execution_count": null,
      "outputs": []
    },
    {
      "cell_type": "code",
      "metadata": {
        "id": "JaI6mZpNaquF"
      },
      "source": [
        "from IPython.core.magic import register_line_cell_magic\n",
        "\n",
        "@register_line_cell_magic\n",
        "def writetemplate(line, cell):\n",
        "    with open(line, 'w') as f:\n",
        "        f.write(cell.format(**globals()))"
      ],
      "execution_count": null,
      "outputs": []
    },
    {
      "cell_type": "code",
      "metadata": {
        "id": "yfHogR76ax6X"
      },
      "source": [
        "# train yolov5s on custom data for 100 epochs\n",
        "# time its performance\n",
        "%%time\n",
        "%cd /content/yolov5/\n",
        "!python train.py --img 640 --batch 16 --epochs 50 --data '../data.yaml' --cfg ./models/yolov5s.yaml --weights '' --name yolov5s_results  --cach\n",
        "!python detect.py --source ../train/images/ --weights /content/yolov5/runs/train/yolov5s_results/weights/best.pt --img 640 --save-txt --save-conf\n"
      ],
      "execution_count": null,
      "outputs": []
    },
    {
      "cell_type": "markdown",
      "metadata": {
        "id": "Ozjrvy6Ei2N6"
      },
      "source": [
        "**Test**"
      ]
    },
    {
      "cell_type": "code",
      "metadata": {
        "id": "mSbOmQEQi-fT"
      },
      "source": [
        "#Testing on initial dataset\n",
        "!python test.py --data /content/data.yaml\n",
        "\n",
        "#Testing on second dataset\n",
        "!python test.py --data /content/datav2.yaml\n"
      ],
      "execution_count": null,
      "outputs": []
    }
  ]
}